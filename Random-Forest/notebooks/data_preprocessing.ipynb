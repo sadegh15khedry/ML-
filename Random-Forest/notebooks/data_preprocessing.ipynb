{
 "cells": [
  {
   "cell_type": "code",
   "execution_count": null,
   "metadata": {},
   "outputs": [],
   "source": [
    "import sys\n",
    "import os\n",
    "%matplotlib inline\n",
    "# Add the src directory to the Python path\n",
    "sys.path.append(os.path.abspath('../src'))\n",
    "from data_prepocessing import  split_data, categorical_encode, normalize_data\n",
    "from utils import save_dataframe_as_csv, load_csv, set_pandas_options"
   ]
  },
  {
   "cell_type": "code",
   "execution_count": null,
   "metadata": {},
   "outputs": [],
   "source": [
    "#loading the dataset\n",
    "df = load_csv(\"../datasets/raw/iris.csv\")"
   ]
  },
  {
   "cell_type": "code",
   "execution_count": null,
   "metadata": {},
   "outputs": [],
   "source": [
    "# Setting up the Variables\n",
    "feature_columns = ['sepal_length','sepal_width','petal_length','petal_width']\n",
    "label_column = ['species']\n",
    "normlization_method = 'log'"
   ]
  },
  {
   "cell_type": "code",
   "execution_count": null,
   "metadata": {},
   "outputs": [],
   "source": [
    "set_pandas_options()"
   ]
  },
  {
   "cell_type": "code",
   "execution_count": null,
   "metadata": {},
   "outputs": [],
   "source": [
    "#preprocessing the data that includes removing duplicate and null values\n",
    "print(df.shape)\n",
    "df = df.dropna()\n",
    "df = df.drop_duplicates(keep=False) \n",
    "print(df.shape)"
   ]
  },
  {
   "cell_type": "code",
   "execution_count": null,
   "metadata": {},
   "outputs": [],
   "source": [
    "df = normalize_data(df, feature_columns, normlization_method)\n",
    "print(df.head)"
   ]
  },
  {
   "cell_type": "code",
   "execution_count": null,
   "metadata": {},
   "outputs": [],
   "source": [
    "df = categorical_encode(df, label_column)"
   ]
  },
  {
   "cell_type": "code",
   "execution_count": null,
   "metadata": {},
   "outputs": [],
   "source": [
    "#shuffleing the data before splitting\n",
    "df = df.sample(frac=1).reset_index(drop=True)\n",
    "print(df.head)"
   ]
  },
  {
   "cell_type": "code",
   "execution_count": null,
   "metadata": {},
   "outputs": [],
   "source": [
    "#spiliting the data into x_train, y_train, x_test, y_test\n",
    "x_train, x_test, y_train, y_test = split_data(df, feature_columns, label_column)"
   ]
  },
  {
   "cell_type": "code",
   "execution_count": 16,
   "metadata": {},
   "outputs": [],
   "source": [
    "#saving the x_train, y_train, x_test, y_test\n",
    "save_dataframe_as_csv(x_train, \"../datasets/ready/train/x_train.csv\")\n",
    "save_dataframe_as_csv(y_train, \"../datasets/ready/train/y_train.csv\")\n",
    "save_dataframe_as_csv(x_test, \"../datasets/ready/test/x_test.csv\")\n",
    "save_dataframe_as_csv(y_test, \"../datasets/ready/test/y_test.csv\")\n"
   ]
  }
 ],
 "metadata": {
  "kernelspec": {
   "display_name": "Python 3 (ipykernel)",
   "language": "python",
   "name": "python3"
  },
  "language_info": {
   "codemirror_mode": {
    "name": "ipython",
    "version": 3
   },
   "file_extension": ".py",
   "mimetype": "text/x-python",
   "name": "python",
   "nbconvert_exporter": "python",
   "pygments_lexer": "ipython3",
   "version": "3.9.19"
  }
 },
 "nbformat": 4,
 "nbformat_minor": 2
}
