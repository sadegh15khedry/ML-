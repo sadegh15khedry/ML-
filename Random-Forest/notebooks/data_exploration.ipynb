{
 "cells": [
  {
   "cell_type": "code",
   "execution_count": null,
   "id": "c00b83ca",
   "metadata": {},
   "outputs": [],
   "source": [
    "import sys\n",
    "import os\n",
    "%matplotlib inline\n",
    "# Add the src directory to the Python path\n",
    "sys.path.append(os.path.abspath('../src'))\n",
    "from utils import set_pandas_options, load_csv\n",
    "from data_exploration  import display_correlation_matrix"
   ]
  },
  {
   "cell_type": "code",
   "execution_count": null,
   "id": "a5438905",
   "metadata": {},
   "outputs": [],
   "source": [
    "#loading the dataset\n",
    "df = load_csv(\"../datasets/raw/iris.csv\")"
   ]
  },
  {
   "cell_type": "code",
   "execution_count": null,
   "id": "f2c0d22d",
   "metadata": {},
   "outputs": [],
   "source": [
    "df.columns"
   ]
  },
  {
   "cell_type": "code",
   "execution_count": null,
   "id": "78d75110",
   "metadata": {},
   "outputs": [],
   "source": [
    "set_pandas_options()\n"
   ]
  },
  {
   "cell_type": "code",
   "execution_count": null,
   "id": "611de9ee",
   "metadata": {},
   "outputs": [],
   "source": [
    "df.info()"
   ]
  },
  {
   "cell_type": "code",
   "execution_count": null,
   "id": "e07676e1",
   "metadata": {},
   "outputs": [],
   "source": [
    "df.describe()"
   ]
  },
  {
   "cell_type": "code",
   "execution_count": null,
   "id": "012e6e0f",
   "metadata": {},
   "outputs": [],
   "source": [
    "df.isnull().sum()"
   ]
  },
  {
   "cell_type": "code",
   "execution_count": null,
   "id": "19947744",
   "metadata": {},
   "outputs": [],
   "source": [
    "df.duplicated().sum()"
   ]
  },
  {
   "cell_type": "code",
   "execution_count": null,
   "id": "aeae0dfc",
   "metadata": {},
   "outputs": [],
   "source": [
    "#getting the correlation matrix \n",
    "df = df.iloc[:, :-1]\n",
    "correlation_matrix = df.corr()\n",
    "print(correlation_matrix)\n",
    "\n",
    "#visualizing the correlation matrix\n",
    "display_correlation_matrix(correlation_matrix)\n",
    "\n"
   ]
  }
 ],
 "metadata": {
  "kernelspec": {
   "display_name": "Python 3 (ipykernel)",
   "language": "python",
   "name": "python3"
  }
 },
 "nbformat": 4,
 "nbformat_minor": 5
}
