{
 "cells": [
  {
   "cell_type": "code",
   "execution_count": 1,
   "metadata": {},
   "outputs": [],
   "source": [
    "import sys\n",
    "import os\n",
    "%matplotlib inline\n",
    "\n",
    "sys.path.append(os.path.abspath('../src'))\n",
    "from model_training import train_model\n",
    "from utils import save_model, load_data, get_error"
   ]
  },
  {
   "cell_type": "code",
   "execution_count": 2,
   "metadata": {},
   "outputs": [],
   "source": [
    "#loading the datasets\n",
    "x_train = load_data(\"../datasets/ready/train/x_train.csv\")\n",
    "y_train = load_data(\"../datasets/ready/train/y_train.csv\")\n",
    "\n",
    "x_test = load_data(\"../datasets/ready/test/x_test.csv\")\n",
    "y_test = load_data(\"../datasets/ready/test/y_test.csv\")"
   ]
  },
  {
   "cell_type": "code",
   "execution_count": 3,
   "metadata": {},
   "outputs": [],
   "source": [
    "model_type = 'sklearn'\n",
    "number_of_iterations = 1000\n",
    "learning_rate = 0.001"
   ]
  },
  {
   "cell_type": "code",
   "execution_count": 4,
   "metadata": {},
   "outputs": [],
   "source": [
    "#traingin the random forest model \n",
    "model = train_model(x_train, y_train, number_of_iterations, learning_rate, model_type)"
   ]
  },
  {
   "cell_type": "code",
   "execution_count": 5,
   "metadata": {},
   "outputs": [
    {
     "name": "stdout",
     "output_type": "stream",
     "text": [
      "Training MSE: 18.361320694695735\n"
     ]
    }
   ],
   "source": [
    "# Get predictions on the training data\n",
    "y_pred_train = model.predict(x_train)\n",
    "\n",
    "# Calculate Mean Squared Error (MSE)\n",
    "mse_train =  get_error(y_train, y_pred_train)\n",
    "# mean_squared_error(y_train, y_pred_train)\n",
    "print(f\"Training MSE: {mse_train}\")"
   ]
  },
  {
   "cell_type": "code",
   "execution_count": 6,
   "metadata": {},
   "outputs": [],
   "source": [
    "#saving the tarained random forest model \n",
    "save_model(model, '../models/random_forest.joblib')"
   ]
  }
 ],
 "metadata": {
  "kernelspec": {
   "display_name": "Python 3 (ipykernel)",
   "language": "python",
   "name": "python3"
  },
  "language_info": {
   "codemirror_mode": {
    "name": "ipython",
    "version": 3
   },
   "file_extension": ".py",
   "mimetype": "text/x-python",
   "name": "python",
   "nbconvert_exporter": "python",
   "pygments_lexer": "ipython3",
   "version": "3.9.19"
  }
 },
 "nbformat": 4,
 "nbformat_minor": 2
}
