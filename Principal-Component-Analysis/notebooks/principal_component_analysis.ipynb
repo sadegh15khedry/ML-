{
 "cells": [
  {
   "cell_type": "code",
   "execution_count": null,
   "metadata": {},
   "outputs": [],
   "source": [
    "import sys\n",
    "import os\n",
    "%matplotlib inline\n",
    "\n",
    "sys.path.append(os.path.abspath('../src'))\n",
    "from model_training import train_model\n",
    "from utils import save_model, load_data, scatter"
   ]
  },
  {
   "cell_type": "code",
   "execution_count": null,
   "metadata": {},
   "outputs": [],
   "source": [
    "#loading the datasets\n",
    "df = load_data(\"../datasets/ready/dataset.csv\")\n"
   ]
  },
  {
   "cell_type": "code",
   "execution_count": null,
   "metadata": {},
   "outputs": [],
   "source": [
    "model_type = 'sklearn'\n",
    "number_of_iterations = 1000\n",
    "learning_rate = 0.0000001"
   ]
  },
  {
   "cell_type": "code",
   "execution_count": null,
   "metadata": {},
   "outputs": [],
   "source": [
    "#traingin the random forest model \n",
    "model = train_model(df, n_components=2, model_type=model_type)"
   ]
  },
  {
   "cell_type": "code",
   "execution_count": null,
   "metadata": {},
   "outputs": [],
   "source": [
    "df = model.fit_transform(df, y=None)\n",
    "\n",
    "scatter(df, model_type)\n",
    "\n",
    "\n",
    "\n",
    "print(df.shape)\n",
    "# print(model.explained_variance_ratio_)\n",
    "# print(model.singular_values_)"
   ]
  },
  {
   "cell_type": "code",
   "execution_count": null,
   "metadata": {},
   "outputs": [],
   "source": [
    "#saving the tarained random forest model\n",
    "save_model(model, '../models/model_'+model_type+'.joblib')"
   ]
  }
 ],
 "metadata": {
  "kernelspec": {
   "display_name": "Python 3 (ipykernel)",
   "language": "python",
   "name": "python3"
  }
 },
 "nbformat": 4,
 "nbformat_minor": 2
}
