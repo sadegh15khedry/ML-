{
 "cells": [
  {
   "cell_type": "code",
   "execution_count": 28,
   "metadata": {},
   "outputs": [],
   "source": [
    "import sys\n",
    "import os\n",
    "%matplotlib inline\n",
    "sys.path.append(os.path.abspath('../src'))\n",
    "from utils import load_model, get_error, load_data, get_accuracy, convert_dataframe_to_numpy_array"
   ]
  },
  {
   "cell_type": "code",
   "execution_count": 29,
   "metadata": {},
   "outputs": [],
   "source": [
    "#loeading the trained model\n",
    "model_type = 'sklearn'\n",
    "model = load_model('../models/model_'+model_type+'.joblib')"
   ]
  },
  {
   "cell_type": "code",
   "execution_count": 30,
   "metadata": {},
   "outputs": [],
   "source": [
    "#loading the datasets\n",
    "test_df = load_data('../datasets/ready/test/test.csv')\n",
    "x_test = test_df.iloc[:, :-1]\n",
    "y_test = test_df.label"
   ]
  },
  {
   "cell_type": "code",
   "execution_count": 31,
   "metadata": {},
   "outputs": [],
   "source": [
    "x_test = convert_dataframe_to_numpy_array(x_test)\n",
    "y_test = convert_dataframe_to_numpy_array(y_test)"
   ]
  },
  {
   "cell_type": "code",
   "execution_count": 32,
   "metadata": {},
   "outputs": [],
   "source": [
    "# Get predictions on the training data\n",
    "y_pred_test = model.predict(x_test)\n"
   ]
  },
  {
   "cell_type": "code",
   "execution_count": 33,
   "metadata": {},
   "outputs": [
    {
     "name": "stdout",
     "output_type": "stream",
     "text": [
      "[1 1 1 0 1 0 0 1 0 1 0 0 0 1 1 1 0 1 0 0 0 1 1 0 0 0 1 0 1 0 1 1 1 1 1 1 0\n",
      " 1 0 1 0 1 1 1 0 1 1 0 1 1 0 0 0 0 0 1 1 0 0 0 0 0 0 1 1 0 1 0 0 1 0 1 0 1\n",
      " 1 1 1 1 1 0 0 0 0 1 1 1 1 1 1 1 1 1 0 0 0 0 1 1 1 0]\n",
      "Accuracy: 0.57\n",
      "Precision: 0.59\n",
      "Recall: 0.60\n",
      "F1 Score: 0.60\n",
      "Test MSE: 0.43\n"
     ]
    }
   ],
   "source": [
    "\n",
    "print (y_pred_test)\n",
    "# Calculate Mean Squared Error (MSE)\n",
    "mse_train =  get_error(y_test, y_pred_test)\n",
    "get_accuracy(y_test, y_pred_test)\n",
    "print(f\"Test MSE: {mse_train}\")"
   ]
  }
 ],
 "metadata": {
  "kernelspec": {
   "display_name": "Python 3 (ipykernel)",
   "language": "python",
   "name": "python3"
  }
 },
 "nbformat": 4,
 "nbformat_minor": 2
}
