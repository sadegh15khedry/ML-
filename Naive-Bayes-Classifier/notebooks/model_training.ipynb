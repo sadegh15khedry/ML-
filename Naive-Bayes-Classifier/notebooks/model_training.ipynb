{
 "cells": [
  {
   "cell_type": "code",
   "execution_count": 28,
   "metadata": {},
   "outputs": [],
   "source": [
    "import os\n",
    "import sys\n",
    "sys.path.append(os.path.dirname('../src/'))\n",
    "from utils import load_data, save_model, get_error,get_accuracy, convert_dataframe_to_numpy_array\n",
    "from model_training import train_model"
   ]
  },
  {
   "cell_type": "code",
   "execution_count": 29,
   "metadata": {},
   "outputs": [],
   "source": [
    "# Load the dataset\n",
    "train_df = load_data('../datasets/ready/train/train.csv')"
   ]
  },
  {
   "cell_type": "code",
   "execution_count": 30,
   "metadata": {},
   "outputs": [
    {
     "name": "stdout",
     "output_type": "stream",
     "text": [
      "(400, 10382)\n",
      "(400, 10381)\n",
      "(400,)\n"
     ]
    }
   ],
   "source": [
    "x_train = train_df.iloc[:, :-1]\n",
    "y_train = train_df.label\n",
    "\n",
    "print(train_df.shape)\n",
    "print(x_train.shape)\n",
    "print(y_train.shape)\n",
    "\n",
    "model_type = 'sklearn'\n",
    "number_of_iterations = 1\n",
    "learning_rate = 0.001\n",
    "number_of_features = 29252"
   ]
  },
  {
   "cell_type": "code",
   "execution_count": 31,
   "metadata": {},
   "outputs": [],
   "source": [
    "# import numpy as np\n",
    "# x_train = np.random.rand(400, 10)  # Example training data\n",
    "# y_train = np.random.randint(0, 2, 400)  # Example labels\n",
    "x_train = convert_dataframe_to_numpy_array(x_train)\n",
    "y_train = convert_dataframe_to_numpy_array(y_train)\n"
   ]
  },
  {
   "cell_type": "code",
   "execution_count": 32,
   "metadata": {},
   "outputs": [],
   "source": [
    "model = train_model(x_train, y_train, model_type=model_type)"
   ]
  },
  {
   "cell_type": "code",
   "execution_count": 33,
   "metadata": {},
   "outputs": [],
   "source": [
    "save_model(model, '../models/model_'+model_type+'.joblib')"
   ]
  },
  {
   "cell_type": "code",
   "execution_count": 34,
   "metadata": {},
   "outputs": [
    {
     "name": "stdout",
     "output_type": "stream",
     "text": [
      "<class 'numpy.ndarray'>\n"
     ]
    }
   ],
   "source": [
    "# Get predictions on the training data\n",
    "print(type(x_train))\n",
    "y_pred_train = model.predict(x_train)"
   ]
  },
  {
   "cell_type": "code",
   "execution_count": 35,
   "metadata": {},
   "outputs": [
    {
     "name": "stdout",
     "output_type": "stream",
     "text": [
      "(400,)\n",
      "[0 1 1 1 1 1 1 1 0 0 1 0 0 0 0 1 0 0 0 1 0 0 0 0 0 1 1 0 0 1 1 0 0 0 1 0 0\n",
      " 0 1 1 0 1 0 0 0 1 0 0 1 0 1 1 0 0 1 0 1 1 0 0 0 1 1 1 1 1 1 0 1 1 1 1 0 1\n",
      " 0 0 0 1 1 1 1 0 1 1 1 1 0 0 1 1 1 1 1 0 0 0 1 1 0 1 1 1 0 1 1 1 1 1 0 1 1\n",
      " 0 0 0 0 1 0 1 0 0 0 1 1 1 1 1 0 0 0 0 0 0 1 1 1 1 0 0 1 1 0 1 1 0 0 1 0 1\n",
      " 0 1 1 0 0 0 1 0 0 0 0 1 0 0 0 0 0 1 1 1 1 1 1 1 0 1 0 1 0 1 0 1 0 1 0 1 0\n",
      " 0 0 0 1 1 1 0 0 0 1 0 1 0 0 1 1 1 0 1 1 0 1 1 1 1 0 0 0 0 0 0 1 1 1 0 1 0\n",
      " 1 1 0 1 0 1 0 1 0 0 0 0 0 0 0 1 1 1 1 1 0 1 1 0 1 1 0 0 1 1 0 1 0 1 1 1 0\n",
      " 1 1 0 1 1 1 1 1 0 1 0 0 1 1 0 0 1 0 0 1 1 0 0 0 1 1 1 1 1 1 1 0 1 1 0 0 1\n",
      " 1 1 1 1 0 0 1 1 0 0 1 1 1 1 0 0 0 0 1 0 0 1 0 1 0 1 0 1 0 0 0 0 0 1 1 1 0\n",
      " 1 1 1 0 1 1 1 0 0 1 0 1 0 1 0 0 1 1 1 1 1 0 0 1 1 0 0 0 0 1 0 1 0 0 0 0 0\n",
      " 0 0 1 0 1 0 1 0 1 0 1 0 1 0 1 1 0 0 1 0 1 0 0 1 0 1 1 1 0 0]\n"
     ]
    }
   ],
   "source": [
    "print(y_pred_train.shape)\n",
    "print(y_pred_train)"
   ]
  },
  {
   "cell_type": "code",
   "execution_count": 36,
   "metadata": {},
   "outputs": [
    {
     "name": "stdout",
     "output_type": "stream",
     "text": [
      "(400,)\n",
      "(400,)\n",
      "Accuracy: 0.99\n",
      "Precision: 1.00\n",
      "Recall: 0.99\n",
      "F1 Score: 1.00\n",
      "Train MSE: 0.005\n"
     ]
    }
   ],
   "source": [
    "\n",
    "print (y_pred_train.shape)\n",
    "print (y_train.shape)\n",
    "\n",
    "# Calculate Mean Squared Error (MSE)\n",
    "mse_train =  get_error(y_train, y_pred_train)\n",
    "get_accuracy(y_train, y_pred_train)\n",
    "print(f\"Train MSE: {mse_train}\")"
   ]
  }
 ],
 "metadata": {
  "kernelspec": {
   "display_name": "Python 3 (ipykernel)",
   "language": "python",
   "name": "python3"
  },
  "language_info": {
   "codemirror_mode": {
    "name": "ipython",
    "version": 3
   },
   "file_extension": ".py",
   "mimetype": "text/x-python",
   "name": "python",
   "nbconvert_exporter": "python",
   "pygments_lexer": "ipython3",
   "version": "3.9.19"
  }
 },
 "nbformat": 4,
 "nbformat_minor": 2
}
