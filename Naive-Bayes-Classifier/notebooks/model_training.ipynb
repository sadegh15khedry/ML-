{
 "cells": [
  {
   "cell_type": "code",
   "execution_count": 1,
   "metadata": {},
   "outputs": [],
   "source": [
    "import os\n",
    "import sys\n",
    "sys.path.append(os.path.dirname('../src/'))\n",
    "from utils import load_data, save_model, get_error,get_accuracy\n",
    "from model_training import train_model"
   ]
  },
  {
   "cell_type": "code",
   "execution_count": 2,
   "metadata": {},
   "outputs": [],
   "source": [
    "# Load the dataset\n",
    "train_df = load_data('../datasets/ready/train/train.csv')"
   ]
  },
  {
   "cell_type": "code",
   "execution_count": 3,
   "metadata": {},
   "outputs": [
    {
     "name": "stdout",
     "output_type": "stream",
     "text": [
      "(4582, 29253)\n",
      "(4582, 29252)\n",
      "(4582,)\n"
     ]
    }
   ],
   "source": [
    "x_train = train_df.iloc[:, :-1]\n",
    "y_train = train_df.label\n",
    "print(train_df.shape)\n",
    "print(x_train.shape)\n",
    "print(y_train.shape)\n",
    "model_type = 'custom'\n",
    "number_of_iterations = 1\n",
    "learning_rate = 0.001\n",
    "number_of_features = 29252"
   ]
  },
  {
   "cell_type": "code",
   "execution_count": 4,
   "metadata": {},
   "outputs": [],
   "source": [
    "model = train_model(x_train, y_train, number_of_iterations, learning_rate, model_type=model_type)"
   ]
  },
  {
   "cell_type": "code",
   "execution_count": 5,
   "metadata": {},
   "outputs": [],
   "source": [
    "save_model(model, '../models/model_'+model_type+'.joblib')"
   ]
  },
  {
   "cell_type": "code",
   "execution_count": 6,
   "metadata": {},
   "outputs": [
    {
     "name": "stdout",
     "output_type": "stream",
     "text": [
      "Shape of x in predict: (4582, 29252)\n",
      "Shape of linear_predictions: (4582,)\n",
      "Shape of y_pred: (4582,)\n",
      "Shape of class_pred: (4582,)\n"
     ]
    }
   ],
   "source": [
    "# Get predictions on the training data\n",
    "y_pred_train = model.predict(x_train)"
   ]
  },
  {
   "cell_type": "code",
   "execution_count": 7,
   "metadata": {},
   "outputs": [
    {
     "name": "stdout",
     "output_type": "stream",
     "text": [
      "(4582,)\n",
      "(4582,)\n",
      "Accuracy: 0.76\n",
      "Precision: 0.00\n",
      "Recall: 0.00\n",
      "F1 Score: 0.00\n",
      "Train MSE: 0.23526844172850284\n"
     ]
    },
    {
     "name": "stderr",
     "output_type": "stream",
     "text": [
      "/home/sadegh/anaconda3/envs/logestic-regression/lib/python3.9/site-packages/sklearn/metrics/_classification.py:1509: UndefinedMetricWarning: Precision is ill-defined and being set to 0.0 due to no predicted samples. Use `zero_division` parameter to control this behavior.\n",
      "  _warn_prf(average, modifier, f\"{metric.capitalize()} is\", len(result))\n"
     ]
    }
   ],
   "source": [
    "\n",
    "print (y_pred_train.shape)\n",
    "print (y_train.shape)\n",
    "\n",
    "# Calculate Mean Squared Error (MSE)\n",
    "mse_train =  get_error(y_train, y_pred_train)\n",
    "get_accuracy(y_train, y_pred_train)\n",
    "print(f\"Train MSE: {mse_train}\")"
   ]
  }
 ],
 "metadata": {
  "kernelspec": {
   "display_name": "Python 3 (ipykernel)",
   "language": "python",
   "name": "python3"
  },
  "language_info": {
   "codemirror_mode": {
    "name": "ipython",
    "version": 3
   },
   "file_extension": ".py",
   "mimetype": "text/x-python",
   "name": "python",
   "nbconvert_exporter": "python",
   "pygments_lexer": "ipython3",
   "version": "3.9.19"
  }
 },
 "nbformat": 4,
 "nbformat_minor": 2
}
