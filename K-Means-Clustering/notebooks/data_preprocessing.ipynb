{
 "cells": [
  {
   "cell_type": "code",
   "execution_count": 1,
   "metadata": {},
   "outputs": [],
   "source": [
    "import sys\n",
    "import os\n",
    "sys.path.append(os.path.abspath('../src'))\n",
    "from utils import load_dataset, save_datest\n",
    "from data_prepocessing import categorical_encode, normalize_data"
   ]
  },
  {
   "cell_type": "code",
   "execution_count": 2,
   "metadata": {},
   "outputs": [],
   "source": [
    "# Initializing variables\n",
    "load_path = '../datasets/raw/mall_customers.csv'\n",
    "save_path = '../datasets/ready/processed_mall_customers.csv'\n",
    "normaliztion_method = 'z_score'"
   ]
  },
  {
   "cell_type": "code",
   "execution_count": 3,
   "metadata": {},
   "outputs": [
    {
     "name": "stdout",
     "output_type": "stream",
     "text": [
      "     customer_id  gender  age  annual_Income  spending_Score\n",
      "0              1    Male   19             15              39\n",
      "1              2    Male   21             15              81\n",
      "2              3  Female   20             16               6\n",
      "3              4  Female   23             16              77\n",
      "4              5  Female   31             17              40\n",
      "..           ...     ...  ...            ...             ...\n",
      "195          196  Female   35            120              79\n",
      "196          197  Female   45            126              28\n",
      "197          198    Male   32            126              74\n",
      "198          199    Male   32            137              18\n",
      "199          200    Male   30            137              83\n",
      "\n",
      "[200 rows x 5 columns]\n"
     ]
    }
   ],
   "source": [
    "#Loading the dataset\n",
    "df = load_dataset(load_path)\n",
    "print(df)"
   ]
  },
  {
   "cell_type": "code",
   "execution_count": 4,
   "metadata": {},
   "outputs": [
    {
     "name": "stdout",
     "output_type": "stream",
     "text": [
      "     gender  age  annual_Income  spending_Score\n",
      "0      Male   19             15              39\n",
      "1      Male   21             15              81\n",
      "2    Female   20             16               6\n",
      "3    Female   23             16              77\n",
      "4    Female   31             17              40\n",
      "..      ...  ...            ...             ...\n",
      "195  Female   35            120              79\n",
      "196  Female   45            126              28\n",
      "197    Male   32            126              74\n",
      "198    Male   32            137              18\n",
      "199    Male   30            137              83\n",
      "\n",
      "[200 rows x 4 columns]\n"
     ]
    }
   ],
   "source": [
    "#selecting proper column\n",
    "df = df[['gender','age','annual_Income','spending_Score']]\n",
    "print(df)"
   ]
  },
  {
   "cell_type": "code",
   "execution_count": 5,
   "metadata": {},
   "outputs": [
    {
     "name": "stdout",
     "output_type": "stream",
     "text": [
      "     gender  age  annual_Income  spending_Score\n",
      "0      Male   19             15              39\n",
      "1      Male   21             15              81\n",
      "2    Female   20             16               6\n",
      "3    Female   23             16              77\n",
      "4    Female   31             17              40\n",
      "..      ...  ...            ...             ...\n",
      "195  Female   35            120              79\n",
      "196  Female   45            126              28\n",
      "197    Male   32            126              74\n",
      "198    Male   32            137              18\n",
      "199    Male   30            137              83\n",
      "\n",
      "[200 rows x 4 columns]\n"
     ]
    }
   ],
   "source": [
    "#Finding and Handling missing values\n",
    "df = df.dropna()\n",
    "print(df)"
   ]
  },
  {
   "cell_type": "code",
   "execution_count": 6,
   "metadata": {},
   "outputs": [
    {
     "name": "stdout",
     "output_type": "stream",
     "text": [
      "     gender  age  annual_Income  spending_Score\n",
      "0      Male   19             15              39\n",
      "1      Male   21             15              81\n",
      "2    Female   20             16               6\n",
      "3    Female   23             16              77\n",
      "4    Female   31             17              40\n",
      "..      ...  ...            ...             ...\n",
      "195  Female   35            120              79\n",
      "196  Female   45            126              28\n",
      "197    Male   32            126              74\n",
      "198    Male   32            137              18\n",
      "199    Male   30            137              83\n",
      "\n",
      "[200 rows x 4 columns]\n"
     ]
    }
   ],
   "source": [
    "df.drop_duplicates(keep=False) \n",
    "print(df)"
   ]
  },
  {
   "cell_type": "code",
   "execution_count": 8,
   "metadata": {},
   "outputs": [
    {
     "name": "stdout",
     "output_type": "stream",
     "text": [
      "     gender  age  annual_Income  spending_Score\n",
      "0      Male   19             15              39\n",
      "1      Male   21             15              81\n",
      "2    Female   20             16               6\n",
      "3    Female   23             16              77\n",
      "4    Female   31             17              40\n",
      "..      ...  ...            ...             ...\n",
      "195  Female   35            120              79\n",
      "196  Female   45            126              28\n",
      "197    Male   32            126              74\n",
      "198    Male   32            137              18\n",
      "199    Male   30            137              83\n",
      "\n",
      "[200 rows x 4 columns]\n",
      "     gender  age  annual_Income  spending_Score\n",
      "0         1   19             15              39\n",
      "1         1   21             15              81\n",
      "2         0   20             16               6\n",
      "3         0   23             16              77\n",
      "4         0   31             17              40\n",
      "..      ...  ...            ...             ...\n",
      "195       0   35            120              79\n",
      "196       0   45            126              28\n",
      "197       1   32            126              74\n",
      "198       1   32            137              18\n",
      "199       1   30            137              83\n",
      "\n",
      "[200 rows x 4 columns]\n"
     ]
    }
   ],
   "source": [
    "#Categorical Encoding \n",
    "print(df)\n",
    "columns = ['gender']\n",
    "df = categorical_encode(df, columns) # Male => 1 and Female => 0\n",
    "print(df)\n"
   ]
  },
  {
   "cell_type": "code",
   "execution_count": 9,
   "metadata": {},
   "outputs": [
    {
     "data": {
      "text/html": [
       "<div>\n",
       "<style scoped>\n",
       "    .dataframe tbody tr th:only-of-type {\n",
       "        vertical-align: middle;\n",
       "    }\n",
       "\n",
       "    .dataframe tbody tr th {\n",
       "        vertical-align: top;\n",
       "    }\n",
       "\n",
       "    .dataframe thead th {\n",
       "        text-align: right;\n",
       "    }\n",
       "</style>\n",
       "<table border=\"1\" class=\"dataframe\">\n",
       "  <thead>\n",
       "    <tr style=\"text-align: right;\">\n",
       "      <th></th>\n",
       "      <th>gender</th>\n",
       "      <th>age</th>\n",
       "      <th>annual_Income</th>\n",
       "      <th>spending_Score</th>\n",
       "    </tr>\n",
       "  </thead>\n",
       "  <tbody>\n",
       "    <tr>\n",
       "      <th>0</th>\n",
       "      <td>1</td>\n",
       "      <td>-1.421003</td>\n",
       "      <td>-1.734646</td>\n",
       "      <td>-0.433713</td>\n",
       "    </tr>\n",
       "    <tr>\n",
       "      <th>1</th>\n",
       "      <td>1</td>\n",
       "      <td>-1.277829</td>\n",
       "      <td>-1.734646</td>\n",
       "      <td>1.192711</td>\n",
       "    </tr>\n",
       "    <tr>\n",
       "      <th>2</th>\n",
       "      <td>0</td>\n",
       "      <td>-1.349416</td>\n",
       "      <td>-1.696572</td>\n",
       "      <td>-1.711618</td>\n",
       "    </tr>\n",
       "    <tr>\n",
       "      <th>3</th>\n",
       "      <td>0</td>\n",
       "      <td>-1.134655</td>\n",
       "      <td>-1.696572</td>\n",
       "      <td>1.037814</td>\n",
       "    </tr>\n",
       "    <tr>\n",
       "      <th>4</th>\n",
       "      <td>0</td>\n",
       "      <td>-0.561958</td>\n",
       "      <td>-1.658498</td>\n",
       "      <td>-0.394989</td>\n",
       "    </tr>\n",
       "    <tr>\n",
       "      <th>...</th>\n",
       "      <td>...</td>\n",
       "      <td>...</td>\n",
       "      <td>...</td>\n",
       "      <td>...</td>\n",
       "    </tr>\n",
       "    <tr>\n",
       "      <th>195</th>\n",
       "      <td>0</td>\n",
       "      <td>-0.275610</td>\n",
       "      <td>2.263112</td>\n",
       "      <td>1.115262</td>\n",
       "    </tr>\n",
       "    <tr>\n",
       "      <th>196</th>\n",
       "      <td>0</td>\n",
       "      <td>0.440260</td>\n",
       "      <td>2.491555</td>\n",
       "      <td>-0.859681</td>\n",
       "    </tr>\n",
       "    <tr>\n",
       "      <th>197</th>\n",
       "      <td>1</td>\n",
       "      <td>-0.490371</td>\n",
       "      <td>2.491555</td>\n",
       "      <td>0.921640</td>\n",
       "    </tr>\n",
       "    <tr>\n",
       "      <th>198</th>\n",
       "      <td>1</td>\n",
       "      <td>-0.490371</td>\n",
       "      <td>2.910368</td>\n",
       "      <td>-1.246925</td>\n",
       "    </tr>\n",
       "    <tr>\n",
       "      <th>199</th>\n",
       "      <td>1</td>\n",
       "      <td>-0.633545</td>\n",
       "      <td>2.910368</td>\n",
       "      <td>1.270160</td>\n",
       "    </tr>\n",
       "  </tbody>\n",
       "</table>\n",
       "<p>200 rows × 4 columns</p>\n",
       "</div>"
      ],
      "text/plain": [
       "     gender       age  annual_Income  spending_Score\n",
       "0         1 -1.421003      -1.734646       -0.433713\n",
       "1         1 -1.277829      -1.734646        1.192711\n",
       "2         0 -1.349416      -1.696572       -1.711618\n",
       "3         0 -1.134655      -1.696572        1.037814\n",
       "4         0 -0.561958      -1.658498       -0.394989\n",
       "..      ...       ...            ...             ...\n",
       "195       0 -0.275610       2.263112        1.115262\n",
       "196       0  0.440260       2.491555       -0.859681\n",
       "197       1 -0.490371       2.491555        0.921640\n",
       "198       1 -0.490371       2.910368       -1.246925\n",
       "199       1 -0.633545       2.910368        1.270160\n",
       "\n",
       "[200 rows x 4 columns]"
      ]
     },
     "execution_count": 9,
     "metadata": {},
     "output_type": "execute_result"
    }
   ],
   "source": [
    "# Normalizing the dataset\n",
    "normalization_columns = ['age','annual_Income','spending_Score']\n",
    "\n",
    "normalize_data(df, normaliztion_method, normalization_columns)"
   ]
  },
  {
   "cell_type": "code",
   "execution_count": 10,
   "metadata": {},
   "outputs": [],
   "source": [
    "#saving the processed dataset\n",
    "save_datest(df, save_path)"
   ]
  }
 ],
 "metadata": {
  "kernelspec": {
   "display_name": "Python 3 (ipykernel)",
   "language": "python",
   "name": "python3"
  },
  "language_info": {
   "codemirror_mode": {
    "name": "ipython",
    "version": 3
   },
   "file_extension": ".py",
   "mimetype": "text/x-python",
   "name": "python",
   "nbconvert_exporter": "python",
   "pygments_lexer": "ipython3",
   "version": "3.9.19"
  }
 },
 "nbformat": 4,
 "nbformat_minor": 2
}
